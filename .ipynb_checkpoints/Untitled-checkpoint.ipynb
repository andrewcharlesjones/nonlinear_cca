{
 "cells": [
  {
   "cell_type": "code",
   "execution_count": 90,
   "metadata": {},
   "outputs": [],
   "source": [
    "from sklearn.decomposition import PCA\n",
    "import numpy as np\n",
    "import matplotlib.pyplot as plt\n",
    "import seaborn as sns\n",
    "from scipy.stats import pearsonr\n",
    "from sklearn.neighbors import DistanceMetric\n",
    "from sklearn.neighbors import NearestNeighbors\n",
    "from sklearn.metrics import roc_auc_score"
   ]
  },
  {
   "cell_type": "code",
   "execution_count": 80,
   "metadata": {},
   "outputs": [],
   "source": [
    "n = 200\n",
    "p = 20\n",
    "k = 5\n",
    "\n",
    "Z_true = np.random.normal(size=(n, k))\n",
    "H_true = np.random.normal(size=(k, p))\n",
    "X = Z_true @ H_true + np.random.normal(0, 0.1, size=(n, p))\n"
   ]
  },
  {
   "cell_type": "code",
   "execution_count": 147,
   "metadata": {},
   "outputs": [],
   "source": [
    "ncomp = 1\n",
    "pca = PCA(n_components=ncomp).fit(X)"
   ]
  },
  {
   "cell_type": "code",
   "execution_count": 148,
   "metadata": {},
   "outputs": [],
   "source": [
    "Z_estimated = pca.transform(X)\n",
    "H_estimated = pca.components_"
   ]
  },
  {
   "cell_type": "code",
   "execution_count": 149,
   "metadata": {},
   "outputs": [
    {
     "name": "stdout",
     "output_type": "stream",
     "text": [
      "0.025\n"
     ]
    }
   ],
   "source": [
    "dist = DistanceMetric.get_metric('euclidean')\n",
    "pairwise_dists_data = dist.pairwise(X)\n",
    "pairwise_dists_latent = dist.pairwise(Z_estimated)\n",
    "\n",
    "nn_idx_data = np.array([np.argmin(pairwise_dists_data[ii, :][pairwise_dists_data[ii, :] != 0]) for ii in range(n)])\n",
    "nn_idx_latent = np.array([np.argmin(pairwise_dists_latent[ii, :][pairwise_dists_latent[ii, :] != 0]) for ii in range(n)])\n",
    "\n",
    "acc = np.mean(nn_idx_data == nn_idx_latent)\n",
    "print(acc)"
   ]
  },
  {
   "cell_type": "code",
   "execution_count": null,
   "metadata": {},
   "outputs": [],
   "source": []
  },
  {
   "cell_type": "code",
   "execution_count": 78,
   "metadata": {},
   "outputs": [],
   "source": [
    "uz, dz, vz = np.linalg.svd(pca.components_.T, full_matrices=False)\n",
    "rotated_Z_estimated = Z_estimated @ vz.T @ np.diag(dz).T\n",
    "\n",
    "uz, dz, vz = np.linalg.svd(H_true.T, full_matrices=False)\n",
    "rotated_Z_true = Z_true @ vz.T @ np.diag(dz).T\n",
    "\n"
   ]
  },
  {
   "cell_type": "code",
   "execution_count": 73,
   "metadata": {},
   "outputs": [
    {
     "data": {
      "image/png": "[encoded data removed]",
      "text/plain": [
       "<Figure size 432x288 with 2 Axes>"
      ]
     },
     "metadata": {
      "needs_background": "light"
     },
     "output_type": "display_data"
    },
    {
     "name": "stdout",
     "output_type": "stream",
     "text": [
      "0.9744\n"
     ]
    }
   ],
   "source": [
    "\n",
    "\n",
    "corrs_for_heatmap = np.zeros((ncomp, ncomp))\n",
    "for kii in range(ncomp):\n",
    "    for kjj in range(ncomp):\n",
    "        curr_corr = np.abs(\n",
    "            pearsonr(rotated_Z_true[:, kii], rotated_Z_estimated[:, kjj])[0])\n",
    "        corrs_for_heatmap[kii, kjj] = np.abs(curr_corr)\n",
    "sns.heatmap(corrs_for_heatmap)\n",
    "plt.show()\n",
    "\n",
    "# Take the maximum of these correlations as a measure of performance (probably need to change this)\n",
    "print(round(np.max(corrs_for_heatmap), 4))"
   ]
  },
  {
   "cell_type": "code",
   "execution_count": null,
   "metadata": {},
   "outputs": [],
   "source": []
  },
  {
   "cell_type": "code",
   "execution_count": null,
   "metadata": {},
   "outputs": [],
   "source": []
  },
  {
   "cell_type": "code",
   "execution_count": null,
   "metadata": {},
   "outputs": [],
   "source": []
  }
 ],
 "metadata": {
  "kernelspec": {
   "display_name": "Python 3",
   "language": "python",
   "name": "python3"
  },
  "language_info": {
   "codemirror_mode": {
    "name": "ipython",
    "version": 3
   },
   "file_extension": ".py",
   "mimetype": "text/x-python",
   "name": "python",
   "nbconvert_exporter": "python",
   "pygments_lexer": "ipython3",
   "version": "3.8.5"
  }
 },
 "nbformat": 4,
 "nbformat_minor": 4
}
